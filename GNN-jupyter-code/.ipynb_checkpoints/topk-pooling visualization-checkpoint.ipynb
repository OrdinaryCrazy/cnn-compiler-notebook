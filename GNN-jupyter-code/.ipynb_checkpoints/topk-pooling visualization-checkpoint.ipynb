{
 "cells": [
  {
   "cell_type": "code",
   "execution_count": 1,
   "metadata": {},
   "outputs": [],
   "source": [
    "import os.path as osp"
   ]
  },
  {
   "cell_type": "code",
   "execution_count": 2,
   "metadata": {},
   "outputs": [],
   "source": [
    "from torch_geometric.data     import DataLoader\n",
    "from torch_geometric.datasets import TUDataset, PPI\n",
    "from torch_geometric.nn       import TopKPooling, GCNConv, GINConv, SAGPooling\n",
    "import torch.nn.functional        as F\n",
    "import torch_geometric.transforms as T\n",
    "import torch\n",
    "from torch_geometric.nn      import global_max_pool\n",
    "from torch_scatter           import scatter_mean\n",
    "from torch.nn import Sequential as Seq, Linear as Lin, ReLU"
   ]
  },
  {
   "cell_type": "code",
   "execution_count": 25,
   "metadata": {},
   "outputs": [
    {
     "name": "stdout",
     "output_type": "stream",
     "text": [
      "Populating the interactive namespace from numpy and matplotlib\n"
     ]
    }
   ],
   "source": [
    "%pylab inline\n",
    "from sklearn.manifold import TSNE\n",
    "import operator\n",
    "from functools import reduce"
   ]
  },
  {
   "cell_type": "code",
   "execution_count": 26,
   "metadata": {},
   "outputs": [],
   "source": [
    "class HandleNodeAttention(object):\n",
    "    def __call__(self, data):\n",
    "        data.attn = torch.softmax(data.x, dim=0)\n",
    "        data.x = None\n",
    "        return data\n",
    "\n",
    "transform = T.Compose([HandleNodeAttention(), T.OneHotDegree(max_degree=14)])\n",
    "path = osp.join(osp.abspath(''), '..', 'data', 'TRIANGLES')\n",
    "dataset = TUDataset(path, name='FIRSTMM_DB', use_node_attr=True, transform=transform)\n",
    "\n",
    "train_loader = DataLoader(dataset[:30000], batch_size=5, shuffle=True)\n",
    "\n",
    "# path = osp.join(osp.abspath(''), '..', 'data', 'PPI')\n",
    "# train_dataset = PPI(path, split='train')\n",
    "# val_dataset   = PPI(path, split='val')\n",
    "# test_dataset  = PPI(path, split='test')\n",
    "# train_loader  = DataLoader(train_dataset, batch_size=1, shuffle=True)\n",
    "# val_loader    = DataLoader(val_dataset, batch_size=2, shuffle=False)\n",
    "# test_loader   = DataLoader(test_dataset, batch_size=2, shuffle=False)"
   ]
  },
  {
   "cell_type": "code",
   "execution_count": 45,
   "metadata": {},
   "outputs": [],
   "source": [
    "# class Net(torch.nn.Module):\n",
    "#     def __init__(self):\n",
    "#         super(Net, self).__init__()\n",
    "#         self.conv1 = GCNConv(test_dataset.num_features, 64)\n",
    "#         self.topk_pool = TopKPooling(in_channels=64)\n",
    "#     def forward(self, data):\n",
    "#         x, edge_index, batch = data.x, data.edge_index, data.batch\n",
    "        \n",
    "#         x = F.relu(self.conv1(x, edge_index))\n",
    "#         x, edge_index, _, batch, perm, score = self.topk_pool(x, edge_index, None, batch)\n",
    "        \n",
    "#         return x, edge_index\n",
    "import networkx          as nx\n",
    "import matplotlib.pyplot as plt\n",
    "options = {\n",
    "    'node_color': 'black',\n",
    "    'node_size': 100,\n",
    "    'width': 3,\n",
    "}\n",
    "class Net(torch.nn.Module):\n",
    "    def __init__(self, in_channels):\n",
    "        super(Net, self).__init__()\n",
    "\n",
    "        self.conv1 = GINConv(Seq(Lin(in_channels, 64), ReLU(), Lin(64, 64)))\n",
    "#         self.pool1s = SAGPooling(64, min_score=0.001, GNN=GCNConv)\n",
    "#         self.pool1t = TopKPooling(64,min_score=0.001)\n",
    "        self.pool1s = SAGPooling(64, ratio=0.5, GNN=GCNConv)\n",
    "        self.pool1t = TopKPooling(64,ratio=0.5)\n",
    "        self.conv2 = GINConv(Seq(Lin(64, 64), ReLU(), Lin(64, 64)))\n",
    "        self.pool2s = SAGPooling(64, ratio=0.5, GNN=GCNConv)\n",
    "        self.pool2t = TopKPooling(64, ratio=0.5)\n",
    "        self.conv3 = GINConv(Seq(Lin(64, 64), ReLU(), Lin(64, 64)))\n",
    "\n",
    "        self.lin = torch.nn.Linear(64, 1)\n",
    "        self.i = 0\n",
    "\n",
    "    def forward(self, data):\n",
    "        self.i += 1\n",
    "        x, edge_index, batch = data.x, data.edge_index, data.batch\n",
    "        if self.i == 200 :\n",
    "            origin_graph = nx.Graph()\n",
    "    #         print(edge_index.cpu().numpy().tolist())\n",
    "            edges = edge_index.cpu().numpy().tolist()\n",
    "            origin_graph.add_edges_from(zip(edges[0],edges[1]))\n",
    "    #         nx.draw_spectral(origin_graph, **options)\n",
    "    #         plt.savefig(\"./origin_graphr\"+str(self.i)+\".png\")\n",
    "            nx.readwrite.graphml.write_graphml(origin_graph, \"./origin_graphr\"+str(self.i)+\".graphml\")\n",
    "\n",
    "    #         x_tsne = TSNE(learning_rate=100).fit_transform(x.cpu().numpy())\n",
    "            x_tsne = TSNE(n_components=2, perplexity=40, verbose=2).fit_transform(x.cpu().numpy())\n",
    "            figure(figsize=(10, 5))\n",
    "#             scatter(x_tsne[:, 0], x_tsne[:, 1], c=batch.cpu().numpy())\n",
    "#             print(data.y.cpu().numpy())\n",
    "#             print(batch.cpu().numpy())\n",
    "            label = [ data.y.cpu().numpy()[i] for i in batch.cpu().numpy()]\n",
    "#             print(label)\n",
    "            scatter(x_tsne[:, 0], x_tsne[:, 1], c=label)#, cmap=plt.get_cmap(\"gist_rainbow\"), colorbar=True)\n",
    "#             scatter(x_tsne[:, 0], x_tsne[:, 1], c=reduce(operator.add, data.y.cpu().numpy()))\n",
    "            plt.savefig(\"./origin_graph_tsne\"+str(self.i)+\".png\")\n",
    "        \n",
    "        x = F.relu(self.conv1(x, edge_index))\n",
    "        x_t, edge_index_t, _, batch_t, perm_t, score_t = self.pool1t(x, edge_index, None, batch)\n",
    "        x, edge_index, _, batch, perm, score = self.pool1s(x, edge_index, None, batch)\n",
    "        if self.i == 200 :\n",
    "            topk1_graph = nx.Graph()\n",
    "            sag1__graph = nx.Graph()\n",
    "\n",
    "            edges = edge_index_t.cpu().numpy().tolist()\n",
    "            topk1_graph.add_edges_from(zip(edges[0],edges[1]))\n",
    "    #         nx.draw_spectral(topk1_graph, **options)\n",
    "    #         plt.savefig(\"./topk1_graph\"+str(self.i)+\".png\")\n",
    "    #         nx.readwrite.graphml.write_graphml(topk1_graph, \"./topk1_graph\"+str(self.i)+\".graphml\")\n",
    "    #         x_tsne = TSNE(learning_rate=100).fit_transform(x_t.cpu().detach().numpy())\n",
    "            x_tsne = TSNE(n_components=2, perplexity=40, verbose=2).fit_transform(x_t.cpu().detach().numpy())\n",
    "            figure(figsize=(10, 5))\n",
    "            label = [ data.y.cpu().numpy()[i] for i in batch_t.cpu().numpy()]\n",
    "            scatter(x_tsne[:, 0], x_tsne[:, 1], c=label)\n",
    "            plt.savefig(\"./topk1_graph_tsne\"+str(self.i)+\".png\")\n",
    "\n",
    "            edges = edge_index.cpu().numpy().tolist()\n",
    "            sag1__graph.add_edges_from(zip(edges[0],edges[1]))\n",
    "    #         nx.draw_spectral(sag1__graph, **options)\n",
    "    #         plt.savefig(\"./sag1__graph\"+str(self.i)+\".png\")\n",
    "    #         nx.readwrite.graphml.write_graphml(sag1__graph, \"./sag1__graph\"+str(self.i)+\".graphml\")\n",
    "    #         x_tsne = TSNE(learning_rate=100).fit_transform(x.cpu().detach().numpy())\n",
    "            x_tsne = TSNE(n_components=2, perplexity=40, verbose=2).fit_transform(x.cpu().detach().numpy())\n",
    "            figure(figsize=(10, 5))\n",
    "            scatter(x_tsne[:, 0], x_tsne[:, 1], c=batch.cpu().numpy())\n",
    "            plt.savefig(\"./sag1_graph_tsne\"+str(self.i)+\".png\")\n",
    "        \n",
    "        x = F.relu(self.conv2(x, edge_index))\n",
    "        \n",
    "        x_t, edge_index_t, _, batch_t, perm_t, score_t = self.pool2t(x, edge_index, None, batch)\n",
    "        x,   edge_index,   _, batch,   perm,   score   = self.pool2s(x, edge_index, None, batch)\n",
    "        if self.i == 200 :\n",
    "            topk2_graph = nx.Graph()\n",
    "            sag2__graph = nx.Graph()\n",
    "            edges = edge_index_t.cpu().numpy().tolist()\n",
    "            topk2_graph.add_edges_from(zip(edges[0],edges[1]))\n",
    "    #         nx.draw_spectral(topk2_graph, **options)\n",
    "    #         plt.savefig(\"./topk2_graph\"+str(self.i)+\".png\")\n",
    "    #         nx.readwrite.graphml.write_graphml(topk2_graph, \"./topk2_graph\"+str(self.i)+\".graphml\")\n",
    "    #         x_tsne = TSNE(learning_rate=100).fit_transform(x_t.cpu().detach().numpy())\n",
    "            x_tsne = TSNE(n_components=2, perplexity=40, verbose=2).fit_transform(x_t.cpu().detach().numpy())\n",
    "            figure(figsize=(10, 5))\n",
    "            label = [ data.y.cpu().numpy()[i] for i in batch_t.cpu().numpy()]\n",
    "            scatter(x_tsne[:, 0], x_tsne[:, 1], c=label)\n",
    "            plt.savefig(\"./topk2_graph_tsne\"+str(self.i)+\".png\")\n",
    "\n",
    "            edges = edge_index.cpu().numpy().tolist()\n",
    "            sag2__graph.add_edges_from(zip(edges[0],edges[1]))\n",
    "    #         nx.draw_spectral(sag2__graph, **options)\n",
    "    #         plt.savefig(\"./sag2__graph\"+str(self.i)+\".png\")\n",
    "    #         nx.readwrite.graphml.write_graphml(sag2__graph, \"./sag2__graph\"+str(self.i)+\".graphml\")\n",
    "    #         x_tsne = TSNE(learning_rate=100).fit_transform(x.cpu().detach().numpy())\n",
    "            x_tsne = TSNE(n_components=2, perplexity=40, verbose=2).fit_transform(x.cpu().detach().numpy())\n",
    "            figure(figsize=(10, 5))\n",
    "            scatter(x_tsne[:, 0], x_tsne[:, 1], c=batch.cpu().numpy())\n",
    "            plt.savefig(\"./sag2_graph_tsne\"+str(self.i)+\".png\")\n",
    "        \n",
    "        ratio = x.size(0) / data.x.size(0)\n",
    "\n",
    "        x = F.relu(self.conv3(x, edge_index))\n",
    "        x = global_max_pool(x, batch)\n",
    "        x = self.lin(x).view(-1)\n",
    "\n",
    "        attn_loss = F.kl_div(torch.log(score + 1e-14), data.attn[perm], reduction='none')\n",
    "        attn_loss = scatter_mean(attn_loss, batch)\n",
    "\n",
    "        return x, attn_loss, ratio"
   ]
  },
  {
   "cell_type": "code",
   "execution_count": 46,
   "metadata": {},
   "outputs": [],
   "source": [
    "device = torch.device('cuda' if torch.cuda.is_available() else 'cpu')\n",
    "model = Net(dataset.num_features).to(device)\n",
    "optimizer = torch.optim.Adam(model.parameters(), lr=0.001)"
   ]
  },
  {
   "cell_type": "code",
   "execution_count": 47,
   "metadata": {},
   "outputs": [
    {
     "name": "stdout",
     "output_type": "stream",
     "text": [
      "[t-SNE] Computing 91 nearest neighbors...\n",
      "[t-SNE] Indexed 92 samples in 0.000s...\n",
      "[t-SNE] Computed neighbors for 92 samples in 0.003s...\n",
      "[t-SNE] Computed conditional probabilities for sample 92 / 92\n",
      "[t-SNE] Mean sigma: 0.709821\n",
      "[t-SNE] Computed conditional probabilities in 0.009s\n",
      "[t-SNE] Iteration 50: error = 52.5001488, gradient norm = 0.4752171 (50 iterations in 0.050s)\n",
      "[t-SNE] Iteration 100: error = 51.3308487, gradient norm = 0.6664058 (50 iterations in 0.042s)\n",
      "[t-SNE] Iteration 150: error = 50.8306160, gradient norm = 0.5129212 (50 iterations in 0.041s)\n",
      "[t-SNE] Iteration 200: error = 52.2150307, gradient norm = 0.4346243 (50 iterations in 0.042s)\n",
      "[t-SNE] Iteration 250: error = 50.7077408, gradient norm = 0.5018969 (50 iterations in 0.044s)\n",
      "[t-SNE] KL divergence after 250 iterations with early exaggeration: 50.707741\n",
      "[t-SNE] Iteration 300: error = 0.3941689, gradient norm = 0.0182713 (50 iterations in 0.038s)\n",
      "[t-SNE] Iteration 350: error = 0.1087029, gradient norm = 0.0217567 (50 iterations in 0.036s)\n",
      "[t-SNE] Iteration 400: error = 0.0680862, gradient norm = 0.0137573 (50 iterations in 0.036s)\n",
      "[t-SNE] Iteration 450: error = 0.0587832, gradient norm = 0.0026716 (50 iterations in 0.036s)\n",
      "[t-SNE] Iteration 500: error = 0.0581900, gradient norm = 0.0004596 (50 iterations in 0.037s)\n",
      "[t-SNE] Iteration 550: error = 0.0582163, gradient norm = 0.0005020 (50 iterations in 0.042s)\n",
      "[t-SNE] Iteration 600: error = 0.0583514, gradient norm = 0.0006212 (50 iterations in 0.040s)\n",
      "[t-SNE] Iteration 650: error = 0.0583075, gradient norm = 0.0004283 (50 iterations in 0.029s)\n",
      "[t-SNE] Iteration 700: error = 0.0584363, gradient norm = 0.0005813 (50 iterations in 0.027s)\n",
      "[t-SNE] Iteration 750: error = 0.0564057, gradient norm = 0.0014639 (50 iterations in 0.027s)\n",
      "[t-SNE] Iteration 800: error = 0.0583787, gradient norm = 0.0008033 (50 iterations in 0.027s)\n",
      "[t-SNE] Iteration 850: error = 0.0582977, gradient norm = 0.0004534 (50 iterations in 0.027s)\n",
      "[t-SNE] Iteration 900: error = 0.0581430, gradient norm = 0.0002849 (50 iterations in 0.031s)\n",
      "[t-SNE] Iteration 950: error = 0.0583750, gradient norm = 0.0016554 (50 iterations in 0.033s)\n",
      "[t-SNE] Iteration 1000: error = 0.0586031, gradient norm = 0.0006973 (50 iterations in 0.032s)\n",
      "[t-SNE] KL divergence after 1000 iterations: 0.058603\n",
      "[t-SNE] Computing 47 nearest neighbors...\n",
      "[t-SNE] Indexed 48 samples in 0.000s...\n",
      "[t-SNE] Computed neighbors for 48 samples in 0.001s...\n",
      "[t-SNE] Computed conditional probabilities for sample 48 / 48\n",
      "[t-SNE] Mean sigma: 0.183100\n",
      "[t-SNE] Computed conditional probabilities in 0.004s\n",
      "[t-SNE] Iteration 50: error = 45.5907745, gradient norm = 0.5655794 (50 iterations in 0.017s)\n",
      "[t-SNE] Iteration 100: error = 42.0666924, gradient norm = 0.5560290 (50 iterations in 0.017s)\n",
      "[t-SNE] Iteration 150: error = 46.7292557, gradient norm = 0.4249646 (50 iterations in 0.017s)\n",
      "[t-SNE] Iteration 200: error = 45.2769623, gradient norm = 0.5009346 (50 iterations in 0.021s)\n",
      "[t-SNE] Iteration 250: error = 43.9909554, gradient norm = 0.5637179 (50 iterations in 0.017s)\n",
      "[t-SNE] KL divergence after 250 iterations with early exaggeration: 43.990955\n",
      "[t-SNE] Iteration 300: error = 0.7050241, gradient norm = 0.0014212 (50 iterations in 0.016s)\n",
      "[t-SNE] Iteration 350: error = 0.6476619, gradient norm = 0.0005206 (50 iterations in 0.016s)\n",
      "[t-SNE] Iteration 400: error = 0.5914460, gradient norm = 0.0004718 (50 iterations in 0.017s)\n",
      "[t-SNE] Iteration 450: error = 0.5448354, gradient norm = 0.0006011 (50 iterations in 0.017s)\n",
      "[t-SNE] Iteration 500: error = 0.4879630, gradient norm = 0.0006984 (50 iterations in 0.025s)\n",
      "[t-SNE] Iteration 550: error = 0.4011011, gradient norm = 0.0006268 (50 iterations in 0.017s)\n",
      "[t-SNE] Iteration 600: error = 0.3623173, gradient norm = 0.0001953 (50 iterations in 0.022s)\n",
      "[t-SNE] Iteration 650: error = 0.3550728, gradient norm = 0.0001728 (50 iterations in 0.024s)\n",
      "[t-SNE] Iteration 700: error = 0.3529523, gradient norm = 0.0000386 (50 iterations in 0.028s)\n",
      "[t-SNE] Iteration 750: error = 0.3527457, gradient norm = 0.0000470 (50 iterations in 0.039s)\n",
      "[t-SNE] Iteration 800: error = 0.3507447, gradient norm = 0.0000829 (50 iterations in 0.026s)\n",
      "[t-SNE] Iteration 850: error = 0.3505338, gradient norm = 0.0000268 (50 iterations in 0.020s)\n",
      "[t-SNE] Iteration 900: error = 0.3512591, gradient norm = 0.0000228 (50 iterations in 0.021s)\n",
      "[t-SNE] Iteration 950: error = 0.3507094, gradient norm = 0.0000325 (50 iterations in 0.020s)\n",
      "[t-SNE] Iteration 1000: error = 0.3491934, gradient norm = 0.0000380 (50 iterations in 0.021s)\n",
      "[t-SNE] KL divergence after 1000 iterations: 0.349193\n",
      "[t-SNE] Computing 47 nearest neighbors...\n",
      "[t-SNE] Indexed 48 samples in 0.000s...\n",
      "[t-SNE] Computed neighbors for 48 samples in 0.001s...\n",
      "[t-SNE] Computed conditional probabilities for sample 48 / 48\n",
      "[t-SNE] Mean sigma: 1.056371\n",
      "[t-SNE] Computed conditional probabilities in 0.002s\n",
      "[t-SNE] Iteration 50: error = 45.4366112, gradient norm = 0.4522000 (50 iterations in 0.033s)\n",
      "[t-SNE] Iteration 100: error = 44.3793221, gradient norm = 0.5774043 (50 iterations in 0.017s)\n",
      "[t-SNE] Iteration 150: error = 48.1918449, gradient norm = 0.4759370 (50 iterations in 0.017s)\n",
      "[t-SNE] Iteration 200: error = 44.8727226, gradient norm = 0.6446787 (50 iterations in 0.017s)\n",
      "[t-SNE] Iteration 250: error = 44.8827362, gradient norm = 0.5698909 (50 iterations in 0.017s)\n",
      "[t-SNE] KL divergence after 250 iterations with early exaggeration: 44.882736\n",
      "[t-SNE] Iteration 300: error = 0.7685722, gradient norm = 0.0011418 (50 iterations in 0.024s)\n",
      "[t-SNE] Iteration 350: error = 0.6768562, gradient norm = 0.0007019 (50 iterations in 0.024s)\n",
      "[t-SNE] Iteration 400: error = 0.6272888, gradient norm = 0.0003818 (50 iterations in 0.020s)\n",
      "[t-SNE] Iteration 450: error = 0.5961198, gradient norm = 0.0003558 (50 iterations in 0.020s)\n",
      "[t-SNE] Iteration 500: error = 0.5747325, gradient norm = 0.0002796 (50 iterations in 0.020s)\n",
      "[t-SNE] Iteration 550: error = 0.5423391, gradient norm = 0.0005666 (50 iterations in 0.017s)\n",
      "[t-SNE] Iteration 600: error = 0.4959763, gradient norm = 0.0003763 (50 iterations in 0.017s)\n",
      "[t-SNE] Iteration 650: error = 0.4764889, gradient norm = 0.0003237 (50 iterations in 0.016s)\n",
      "[t-SNE] Iteration 700: error = 0.4648127, gradient norm = 0.0002814 (50 iterations in 0.017s)\n",
      "[t-SNE] Iteration 750: error = 0.4490757, gradient norm = 0.0002604 (50 iterations in 0.016s)\n",
      "[t-SNE] Iteration 800: error = 0.4439093, gradient norm = 0.0002306 (50 iterations in 0.016s)\n",
      "[t-SNE] Iteration 850: error = 0.4308079, gradient norm = 0.0001879 (50 iterations in 0.016s)\n",
      "[t-SNE] Iteration 900: error = 0.4262978, gradient norm = 0.0001337 (50 iterations in 0.016s)\n",
      "[t-SNE] Iteration 950: error = 0.4209838, gradient norm = 0.0003005 (50 iterations in 0.016s)\n",
      "[t-SNE] Iteration 1000: error = 0.4152154, gradient norm = 0.0002002 (50 iterations in 0.016s)\n",
      "[t-SNE] KL divergence after 1000 iterations: 0.415215\n",
      "[t-SNE] Computing 23 nearest neighbors...\n",
      "[t-SNE] Indexed 24 samples in 0.000s...\n",
      "[t-SNE] Computed neighbors for 24 samples in 0.001s...\n",
      "[t-SNE] Computed conditional probabilities for sample 24 / 24\n",
      "[t-SNE] Mean sigma: 1125899906842624.000000\n",
      "[t-SNE] Computed conditional probabilities in 0.003s\n",
      "[t-SNE] Iteration 50: error = 45.7574425, gradient norm = 0.5947313 (50 iterations in 0.012s)\n",
      "[t-SNE] Iteration 100: error = 46.5477486, gradient norm = 0.4241643 (50 iterations in 0.014s)\n",
      "[t-SNE] Iteration 150: error = 42.1982231, gradient norm = 0.3975236 (50 iterations in 0.014s)\n",
      "[t-SNE] Iteration 200: error = 48.0885239, gradient norm = 0.6799371 (50 iterations in 0.013s)\n",
      "[t-SNE] Iteration 250: error = 42.2785263, gradient norm = 0.5737664 (50 iterations in 0.015s)\n",
      "[t-SNE] KL divergence after 250 iterations with early exaggeration: 42.278526\n",
      "[t-SNE] Iteration 300: error = 0.4686936, gradient norm = 0.0005416 (50 iterations in 0.014s)\n",
      "[t-SNE] Iteration 350: error = 0.4538547, gradient norm = 0.0001107 (50 iterations in 0.013s)\n",
      "[t-SNE] Iteration 400: error = 0.4477007, gradient norm = 0.0000906 (50 iterations in 0.012s)\n",
      "[t-SNE] Iteration 450: error = 0.4461603, gradient norm = 0.0000609 (50 iterations in 0.012s)\n",
      "[t-SNE] Iteration 500: error = 0.4464047, gradient norm = 0.0000624 (50 iterations in 0.012s)\n",
      "[t-SNE] Iteration 550: error = 0.4457550, gradient norm = 0.0000594 (50 iterations in 0.012s)\n",
      "[t-SNE] Iteration 600: error = 0.4454103, gradient norm = 0.0000607 (50 iterations in 0.012s)\n",
      "[t-SNE] Iteration 650: error = 0.4442257, gradient norm = 0.0001121 (50 iterations in 0.013s)\n",
      "[t-SNE] Iteration 700: error = 0.4444436, gradient norm = 0.0001566 (50 iterations in 0.012s)\n",
      "[t-SNE] Iteration 750: error = 0.4411815, gradient norm = 0.0024105 (50 iterations in 0.012s)\n"
     ]
    },
    {
     "name": "stdout",
     "output_type": "stream",
     "text": [
      "[t-SNE] Iteration 800: error = 0.6565126, gradient norm = 0.0025989 (50 iterations in 0.015s)\n",
      "[t-SNE] Iteration 850: error = 0.4725627, gradient norm = 0.0004734 (50 iterations in 0.019s)\n",
      "[t-SNE] Iteration 900: error = 0.4516270, gradient norm = 0.0000861 (50 iterations in 0.016s)\n",
      "[t-SNE] Iteration 950: error = 0.4498278, gradient norm = 0.0000537 (50 iterations in 0.016s)\n",
      "[t-SNE] Iteration 1000: error = 0.4480451, gradient norm = 0.0000368 (50 iterations in 0.016s)\n",
      "[t-SNE] KL divergence after 1000 iterations: 0.448045\n",
      "[t-SNE] Computing 23 nearest neighbors...\n",
      "[t-SNE] Indexed 24 samples in 0.000s...\n",
      "[t-SNE] Computed neighbors for 24 samples in 0.001s...\n",
      "[t-SNE] Computed conditional probabilities for sample 24 / 24\n",
      "[t-SNE] Mean sigma: 1125899906842624.000000\n",
      "[t-SNE] Computed conditional probabilities in 0.003s\n",
      "[t-SNE] Iteration 50: error = 47.1657486, gradient norm = 0.4327534 (50 iterations in 0.014s)\n",
      "[t-SNE] Iteration 100: error = 41.8420143, gradient norm = 0.6015810 (50 iterations in 0.013s)\n",
      "[t-SNE] Iteration 150: error = 43.6183357, gradient norm = 0.5855435 (50 iterations in 0.012s)\n",
      "[t-SNE] Iteration 200: error = 49.7339211, gradient norm = 0.4446994 (50 iterations in 0.013s)\n",
      "[t-SNE] Iteration 250: error = 46.0429230, gradient norm = 0.4037851 (50 iterations in 0.016s)\n",
      "[t-SNE] KL divergence after 250 iterations with early exaggeration: 46.042923\n",
      "[t-SNE] Iteration 300: error = 0.5391857, gradient norm = 0.0008430 (50 iterations in 0.015s)\n",
      "[t-SNE] Iteration 350: error = 0.4613440, gradient norm = 0.0002258 (50 iterations in 0.014s)\n",
      "[t-SNE] Iteration 400: error = 0.4512334, gradient norm = 0.0000747 (50 iterations in 0.013s)\n",
      "[t-SNE] Iteration 450: error = 0.4482024, gradient norm = 0.0000844 (50 iterations in 0.012s)\n",
      "[t-SNE] Iteration 500: error = 0.4451500, gradient norm = 0.0000538 (50 iterations in 0.012s)\n",
      "[t-SNE] Iteration 550: error = 0.4451327, gradient norm = 0.0000316 (50 iterations in 0.012s)\n",
      "[t-SNE] Iteration 600: error = 0.4449295, gradient norm = 0.0000291 (50 iterations in 0.011s)\n",
      "[t-SNE] Iteration 650: error = 0.4449800, gradient norm = 0.0000296 (50 iterations in 0.012s)\n",
      "[t-SNE] Iteration 700: error = 0.4452819, gradient norm = 0.0000348 (50 iterations in 0.012s)\n",
      "[t-SNE] Iteration 750: error = 0.4456400, gradient norm = 0.0000330 (50 iterations in 0.012s)\n",
      "[t-SNE] Iteration 800: error = 0.4467956, gradient norm = 0.0000574 (50 iterations in 0.015s)\n",
      "[t-SNE] Iteration 850: error = 0.4470674, gradient norm = 0.0000400 (50 iterations in 0.012s)\n",
      "[t-SNE] Iteration 900: error = 0.4464859, gradient norm = 0.0000633 (50 iterations in 0.012s)\n",
      "[t-SNE] Iteration 950: error = 0.4464763, gradient norm = 0.0000594 (50 iterations in 0.012s)\n",
      "[t-SNE] Iteration 950: did not make any progress during the last 300 episodes. Finished.\n",
      "[t-SNE] KL divergence after 950 iterations: 0.446476\n"
     ]
    },
    {
     "data": {
      "image/png": "[encoded data removed]",
      "text/plain": [
       "<Figure size 720x360 with 1 Axes>"
      ]
     },
     "metadata": {
      "needs_background": "light"
     },
     "output_type": "display_data"
    },
    {
     "data": {
      "image/png": "[encoded data removed]",
      "text/plain": [
       "<Figure size 720x360 with 1 Axes>"
      ]
     },
     "metadata": {
      "needs_background": "light"
     },
     "output_type": "display_data"
    },
    {
     "data": {
      "image/png": "[encoded data removed]",
      "text/plain": [
       "<Figure size 720x360 with 1 Axes>"
      ]
     },
     "metadata": {
      "needs_background": "light"
     },
     "output_type": "display_data"
    },
    {
     "data": {
      "image/png": "[encoded data removed]",
      "text/plain": [
       "<Figure size 720x360 with 1 Axes>"
      ]
     },
     "metadata": {
      "needs_background": "light"
     },
     "output_type": "display_data"
    },
    {
     "data": {
      "image/png": "[encoded data removed]",
      "text/plain": [
       "<Figure size 720x360 with 1 Axes>"
      ]
     },
     "metadata": {
      "needs_background": "light"
     },
     "output_type": "display_data"
    }
   ],
   "source": [
    "# import networkx as nx\n",
    "# model.train()\n",
    "# total_loss = 0\n",
    "# for data in train_loader:\n",
    "#     edge_index = data.edge_index\n",
    "    \n",
    "#     data = data.to(device)\n",
    "#     optimizer.zero_grad()\n",
    "#     out, attn_loss, _ = model(data)\n",
    "#     loss = ((out - data.y).pow(2) + 100 * attn_loss).mean()\n",
    "#     loss.backward()\n",
    "#     total_loss += loss.item() * data.num_graphs\n",
    "#     optimizer.step()\n",
    "#     print(total_loss / len(train_loader.dataset))\n",
    "def train(epoch):\n",
    "    model.train()\n",
    "\n",
    "    total_loss = 0\n",
    "    for data in train_loader:\n",
    "        data = data.to(device)\n",
    "        optimizer.zero_grad()\n",
    "        out, attn_loss, _ = model(data)\n",
    "        loss = ((out - data.y).pow(2) + 100 * attn_loss).mean()\n",
    "        loss.backward()\n",
    "        total_loss += loss.item() * data.num_graphs\n",
    "        optimizer.step()\n",
    "        return\n",
    "\n",
    "    return total_loss / len(train_loader.dataset)\n",
    "for epoch in range(1, 201):\n",
    "    loss = train(epoch)\n",
    "#     train_correct, train_ratio = test(train_loader)\n",
    "#     val_correct, val_ratio = test(val_loader)\n",
    "#     test_correct, test_ratio = test(test_loader)\n",
    "\n",
    "#     train_acc = train_correct.sum().item() / train_correct.size(0)\n",
    "#     val_acc = val_correct.sum().item() / val_correct.size(0)\n",
    "\n",
    "#     test_acc1 = test_correct[:5000].sum().item() / 5000\n",
    "#     t.cpu().numpy()est_acc2 = test_correct[5000:].sum().item() / 5000\n",
    "\n",
    "#     print(('Epoch: {:03d}, Los.cpu().numpy()s: {:.4f}, Train: {:.3f}, Val: {:.3f}, '\n",
    "#            'Test Orig:.cpu().numpy() {:.3f}, Test Large: {:.3f}, '\n",
    "#            'Train/Val/Test Ratio={:.3f}/{:.3f}/{:.3f}').format(\n",
    "#                epoch, loss, train_acc, val_acc, test_acc1, test_acc2,\n",
    "#                train_ratio, val_ratio, test_ratio))"
   ]
  },
  {
   "cell_type": "code",
   "execution_count": null,
   "metadata": {},
   "outputs": [],
   "source": [
    "\n",
    "G = nx.Graph()\n",
    "G.add_edges_from([(1,2),(3,4)])"
   ]
  },
  {
   "cell_type": "code",
   "execution_count": null,
   "metadata": {},
   "outputs": [],
   "source": [
    "nx.draw(G, with_labels=True)"
   ]
  },
  {
   "cell_type": "code",
   "execution_count": null,
   "metadata": {},
   "outputs": [],
   "source": [
    "\n",
    "# a = torch.tensor([[7,8],[8,9]])\n",
    "# a = a.to(torch.device('cuda'))\n",
    "a = [[7,8],[8,9]]\n",
    "G = nx.Graph()\n",
    "# G.add_edges_from(a.numpy())\n",
    "G.add_edges_from(zip(a[0],a[1]))"
   ]
  },
  {
   "cell_type": "code",
   "execution_count": null,
   "metadata": {},
   "outputs": [],
   "source": [
    "nx.draw(G, with_labels=True)"
   ]
  },
  {
   "cell_type": "code",
   "execution_count": null,
   "metadata": {},
   "outputs": [],
   "source": [
    "torch.cuda.is_available()"
   ]
  },
  {
   "cell_type": "code",
   "execution_count": null,
   "metadata": {},
   "outputs": [],
   "source": [
    "a.numpy()"
   ]
  },
  {
   "cell_type": "code",
   "execution_count": null,
   "metadata": {},
   "outputs": [],
   "source": []
  },
  {
   "cell_type": "code",
   "execution_count": null,
   "metadata": {},
   "outputs": [],
   "source": [
    "b = zip(a[0],a[1])"
   ]
  },
  {
   "cell_type": "code",
   "execution_count": null,
   "metadata": {},
   "outputs": [],
   "source": [
    "print(list(b))"
   ]
  },
  {
   "cell_type": "code",
   "execution_count": null,
   "metadata": {},
   "outputs": [],
   "source": []
  }
 ],
 "metadata": {
  "kernelspec": {
   "display_name": "gnn-venv",
   "language": "python",
   "name": "gnn-venv"
  },
  "language_info": {
   "codemirror_mode": {
    "name": "ipython",
    "version": 3
   },
   "file_extension": ".py",
   "mimetype": "text/x-python",
   "name": "python",
   "nbconvert_exporter": "python",
   "pygments_lexer": "ipython3",
   "version": "3.7.3"
  }
 },
 "nbformat": 4,
 "nbformat_minor": 2
}
