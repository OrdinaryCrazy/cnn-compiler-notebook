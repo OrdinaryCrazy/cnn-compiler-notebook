{
 "cells": [
  {
   "cell_type": "code",
   "execution_count": 1,
   "metadata": {},
   "outputs": [],
   "source": [
    "import torch_geometric as pyg\n",
    "import os.path as osp\n",
    "import torch\n",
    "import torch.nn.functional as F\n",
    "import matplotlib\n",
    "import matplotlib.pyplot as plt\n",
    "import pandas as pd\n",
    "import numpy as np\n",
    "\n",
    "from pandas import DataFrame\n",
    "from torch_geometric.data import DataLoader\n",
    "from torch_geometric.datasets import PPI\n",
    "from torch_geometric.nn import GCNConv\n"
   ]
  },
  {
   "cell_type": "code",
   "execution_count": 2,
   "metadata": {},
   "outputs": [],
   "source": [
    "# path = osp.join(osp.dirname(osp.realpath(__file__)), '..', 'data', 'PPI')\n",
    "path = osp.join(osp.abspath(''), '..', 'data', 'PPI')\n",
    "\n",
    "train_dataset      = PPI(path, split='train')\n",
    "validation_dataset = PPI(path, split='val')\n",
    "test_dataset       = PPI(path, split='test')\n",
    "\n",
    "train_loader      = DataLoader(train_dataset, batch_size=1, shuffle=True)\n",
    "# batch_size=1 单位是图\n",
    "validation_loader = DataLoader(validation_dataset, batch_size=2, shuffle=False)\n",
    "test_loader       = DataLoader(test_dataset, batch_size=2, shuffle= False)"
   ]
  },
  {
   "cell_type": "code",
   "execution_count": 3,
   "metadata": {},
   "outputs": [],
   "source": [
    "intrain = True\n",
    "\n",
    "class testNet(torch.nn.Module):\n",
    "    def __init__(self):\n",
    "        super(testNet, self).__init__()\n",
    "        self.conv1 = GCNConv(train_dataset.num_features, 256)\n",
    "        self.conv2 = GCNConv(256, train_dataset.num_classes)\n",
    "    def forward(self, x, edge_index):\n",
    "        x = self.conv1(x, edge_index)\n",
    "        x = F.leaky_relu(x)\n",
    "        x = F.dropout(x, training=intrain)\n",
    "        x = self.conv2(x, edge_index)\n",
    "        x = F.log_softmax(x, dim=1)\n",
    "        return x"
   ]
  },
  {
   "cell_type": "code",
   "execution_count": 11,
   "metadata": {},
   "outputs": [],
   "source": [
    "# device = torch.device('cuda' if torch.cuda.is_available() else 'cpu')\n",
    "device = torch.device('cpu')\n",
    "model = testNet().to(device)\n",
    "loss_op = torch.nn.BCEWithLogitsLoss()\n",
    "optimizer = torch.optim.Adam(model.parameters(), lr=0.005)"
   ]
  },
  {
   "cell_type": "code",
   "execution_count": 12,
   "metadata": {},
   "outputs": [],
   "source": [
    "def train():\n",
    "    model.train()\n",
    "    totalTrainLoss = 0.0\n",
    "    gcn_PPI_profile = DataFrame(columns=['node_num', 'edge_num', 'max_degree',\n",
    "                                    'conv1_in_channels', 'conv1_out_channels', \n",
    "                                    'conv2_in_channels', 'conv2_out_channels', \n",
    "                                    'conv1_agg_time', 'conv1_map_time',\n",
    "                                    'conv2_agg_time', 'conv2_map_time'\n",
    "                                   ]\n",
    "                           )\n",
    "    for batch in train_loader:\n",
    "        batch = batch.to(device)\n",
    "        totalAggTime = 0.0\n",
    "        totalMapTime = 0.0\n",
    "        totalAggTime_2 = 0.0\n",
    "        totalMapTime_2 = 0.0\n",
    "        for epoch in range(1, 11):\n",
    "            x, edge_index = batch.x, batch.edge_index\n",
    "            num_graphs = batch.num_graphs\n",
    "            optimizer.zero_grad()\n",
    "            pred = model(x, edge_index)\n",
    "            loss = loss_op(pred, batch.y)\n",
    "            totalTrainLoss += loss.item() * num_graphs\n",
    "            \n",
    "            totalAggTime += model.conv1.aggregateTime\n",
    "            totalMapTime += model.conv1.mappingTime\n",
    "            totalAggTime_2 += model.conv2.aggregateTime\n",
    "            totalMapTime_2 += model.conv2.mappingTime\n",
    "            \n",
    "            loss.backward()\n",
    "            optimizer.step()\n",
    "#         log = 'batch_node_num:{:d}, batch_edge_num:{:d}, Loss:{:f}, Agg_time:{:f}, Map_time:{:f}'\n",
    "#         print(log.format(\n",
    "#                             batch.x.shape[0], \n",
    "#                             batch.edge_index[0].shape[0], \n",
    "#                             loss.item() * num_graphs, \n",
    "#                             model.conv1.aggregateTime * 1e6, \n",
    "#                             model.conv1.mappingTime * 1e6\n",
    "#                         )\n",
    "#              )\n",
    "        result = DataFrame([[batch.x.shape[0], batch.edge_index[0].shape[0],\n",
    "                             np.max(np.bincount(batch.edge_index[0].cpu())),\n",
    "                             model.conv1.in_channels, model.conv1.out_channels,\n",
    "                             model.conv2.in_channels, model.conv2.out_channels,\n",
    "                             totalAggTime / 10 * 1e6, totalMapTime / 10 * 1e6,\n",
    "                             totalAggTime_2 / 10 * 1e6, totalMapTime_2 / 10 * 1e6\n",
    "                            ]],\n",
    "                           columns=['node_num', 'edge_num', 'max_degree',\n",
    "                                    'conv1_in_channels', 'conv1_out_channels', \n",
    "                                    'conv2_in_channels', 'conv2_out_channels', \n",
    "                                    'conv1_agg_time', 'conv1_map_time',\n",
    "                                    'conv2_agg_time', 'conv2_map_time'\n",
    "                                   ]\n",
    "                          )\n",
    "        gcn_PPI_profile = gcn_PPI_profile.append(result)\n",
    "    return totalTrainLoss/len(train_loader.dataset), gcn_PPI_profile"
   ]
  },
  {
   "cell_type": "code",
   "execution_count": 13,
   "metadata": {},
   "outputs": [],
   "source": [
    "# gcn_PPI_profile = DataFrame(columns=['node_num',\n",
    "#                                      'edge_num',\n",
    "#                                      'in_channels', \n",
    "#                                      'out_channels',\n",
    "#                                      'agg_time',\n",
    "#                                      'map_time'\n",
    "#                                     ]\n",
    "#                            )\n",
    "# for epoch in range(1, 11):\n",
    "#     _, epoch_gcn_PPI_profile = train()\n",
    "#     gcn_PPI_profile = gcn_PPI_profile.append(epoch_gcn_PPI_profile)\n",
    "_, gcn_PPI_profile = train()\n",
    "gcn_PPI_profile.to_csv(\"./gcn_PPI_profile.csv\")"
   ]
  },
  {
   "cell_type": "code",
   "execution_count": 14,
   "metadata": {},
   "outputs": [],
   "source": [
    "# CoraProfile = pd.read_excel(\"../gcn_Cora_profile.xlsx\")\n",
    "# CiteSeerProfile = pd.read_excel(\"../gcn_CiteSeer_profile.xlsx\")\n",
    "# PubMedProfile = pd.read_excel(\"../gcn_PubMed_profile.xlsx\")\n",
    "PPIProfile = pd.read_csv(\"./gcn_PPI_profile.csv\")"
   ]
  },
  {
   "cell_type": "code",
   "execution_count": 15,
   "metadata": {},
   "outputs": [],
   "source": [
    "PPIProfile['conv1_mapx'] = PPIProfile['node_num'] * PPIProfile['conv1_in_channels'] * PPIProfile['conv1_out_channels']\n",
    "PPIProfile['conv1_aggx'] = PPIProfile['edge_num'] * PPIProfile['conv1_out_channels']\n",
    "PPIProfile['conv2_mapx'] = PPIProfile['node_num'] * PPIProfile['conv2_in_channels'] * PPIProfile['conv2_out_channels']\n",
    "PPIProfile['conv2_aggx'] = PPIProfile['edge_num'] * PPIProfile['conv2_out_channels']"
   ]
  },
  {
   "cell_type": "code",
   "execution_count": 17,
   "metadata": {},
   "outputs": [
    {
     "name": "stderr",
     "output_type": "stream",
     "text": [
      "No handles with labels found to put in legend.\n"
     ]
    },
    {
     "data": {
      "image/png": "[encoded data removed]",
      "text/plain": [
       "<Figure size 1080x720 with 6 Axes>"
      ]
     },
     "metadata": {
      "needs_background": "light"
     },
     "output_type": "display_data"
    }
   ],
   "source": [
    "\n",
    "# plt.plot(CoraProfile.epoch, CoraProfile.agg_time, color = \"red\", linestyle = \"--\", \n",
    "#          label = \"Cora_agg_time n_v_aver = 7.8, d = 1443\")\n",
    "# plt.plot(CoraProfile.epoch, CoraProfile.map_time, color = \"red\", linestyle = \"-\", \n",
    "#          label = \"Cora_map_time n_v_aver = 7.8, d = 1443\")\n",
    "# plt.plot(CiteSeerProfile.epoch, CiteSeerProfile.agg_time, color = \"green\", linestyle = \"--\", \n",
    "#          label = \"CiteSeer_agg_time n_v_aver = 5.5, d = 3703\")\n",
    "# plt.plot(CiteSeerProfile.epoch, CiteSeerProfile.map_time, color = \"green\", linestyle = \"-\", \n",
    "#          label = \"CiteSeer_map_time n_v_aver = 5.5, d = 3703\")\n",
    "# plt.plot(PubMedProfile.epoch, PubMedProfile.agg_time, color = \"blue\", linestyle = \"--\", \n",
    "#          label = \"PubMed_agg_time n_v_aver = 9, d = 500\")\n",
    "# plt.plot(PubMedProfile.epoch, PubMedProfile.map_time, color = \"blue\", linestyle = \"-\", \n",
    "#          label = \"PubMed_map_time n_v_aver = 9, d = 500\")\n",
    "gs = matplotlib.gridspec.GridSpec(2,3) \n",
    "fig = plt.figure(figsize=(15,10))\n",
    "\n",
    "conv1_map_plot = fig.add_subplot(gs[0])\n",
    "conv1_map_plot.set_title(\"conv1_map_time\")\n",
    "conv1_map_plot.scatter(PPIProfile['conv1_mapx'], PPIProfile['conv1_map_time'], color = 'red')\n",
    "conv1_map_plot.set_xlabel(\"n * d * d\\'\")\n",
    "conv1_map_plot.set_ylabel(\"us\")\n",
    "conv1_map_plot.set_ylim(0, 300000) \n",
    "\n",
    "conv1_agg_plot = fig.add_subplot(gs[1])\n",
    "conv1_agg_plot.set_title(\"conv1_agg_time\")\n",
    "conv1_agg_plot.scatter(PPIProfile['conv1_aggx'], PPIProfile['conv1_agg_time'], color='red')\n",
    "conv1_agg_plot.set_xlabel(\"E * d\\'\")\n",
    "conv1_agg_plot.set_ylabel(\"us\")\n",
    "conv1_agg_plot.set_ylim(0, 300000)\n",
    "\n",
    "conv1_md_agg_plot = fig.add_subplot(gs[2])\n",
    "conv1_md_agg_plot.set_title(\"conv1_agg_time\")\n",
    "conv1_md_agg_plot.scatter(PPIProfile['max_degree'], PPIProfile['conv1_agg_time'], color='blue')\n",
    "conv1_md_agg_plot.set_xlabel(\"max_degree\")\n",
    "conv1_md_agg_plot.set_ylabel(\"us\")\n",
    "conv1_md_agg_plot.set_ylim(0, 300000) \n",
    "\n",
    "\n",
    "conv2_map_plot = fig.add_subplot(gs[3])\n",
    "conv2_map_plot.set_title(\"conv2_map_time\")\n",
    "conv2_map_plot.scatter(PPIProfile['conv2_mapx'], PPIProfile['conv2_map_time'], color = 'green')\n",
    "conv2_map_plot.set_xlabel(\"n * d * d\\'\")\n",
    "conv2_map_plot.set_ylabel(\"us\")\n",
    "conv2_map_plot.set_ylim(0, 300000) \n",
    "\n",
    "conv2_agg_plot = fig.add_subplot(gs[4])\n",
    "conv2_agg_plot.set_title(\"conv2_agg_time\")\n",
    "conv2_agg_plot.scatter(PPIProfile['conv2_aggx'], PPIProfile['conv2_agg_time'], color='green')\n",
    "conv2_agg_plot.set_xlabel(\"E * d\\'\")\n",
    "conv2_agg_plot.set_ylabel(\"us\")\n",
    "conv2_agg_plot.set_ylim(0, 300000) \n",
    "\n",
    "conv2_md_agg_plot = fig.add_subplot(gs[5])\n",
    "conv2_md_agg_plot.set_title(\"conv2_agg_time\")\n",
    "conv2_md_agg_plot.scatter(PPIProfile['max_degree'], PPIProfile['conv2_agg_time'], color='blue')\n",
    "conv2_md_agg_plot.set_xlabel(\"max_degree\")\n",
    "conv2_md_agg_plot.set_ylabel(\"us\")\n",
    "conv2_md_agg_plot.set_ylim(0, 300000) \n",
    "# plt.ylabel(\"us\")\n",
    "plt.legend(loc='upper right')\n",
    "plt.savefig(\"../ppi_plot_cpu.png\")"
   ]
  },
  {
   "cell_type": "code",
   "execution_count": 10,
   "metadata": {},
   "outputs": [
    {
     "data": {
      "text/plain": [
       "1371"
      ]
     },
     "execution_count": 10,
     "metadata": {},
     "output_type": "execute_result"
    }
   ],
   "source": [
    "np.max(np.bincount(train_dataset.data.edge_index[0]))"
   ]
  }
 ],
 "metadata": {
  "kernelspec": {
   "display_name": "gnn-venv",
   "language": "python",
   "name": "gnn-venv"
  },
  "language_info": {
   "codemirror_mode": {
    "name": "ipython",
    "version": 3
   },
   "file_extension": ".py",
   "mimetype": "text/x-python",
   "name": "python",
   "nbconvert_exporter": "python",
   "pygments_lexer": "ipython3",
   "version": "3.7.3"
  }
 },
 "nbformat": 4,
 "nbformat_minor": 2
}
