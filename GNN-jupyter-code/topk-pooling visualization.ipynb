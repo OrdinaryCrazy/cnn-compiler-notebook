{
 "cells": [
  {
   "cell_type": "code",
   "execution_count": 1,
   "metadata": {},
   "outputs": [],
   "source": [
    "import os.path as osp"
   ]
  },
  {
   "cell_type": "code",
   "execution_count": 2,
   "metadata": {},
   "outputs": [],
   "source": [
    "from torch_geometric.data     import DataLoader\n",
    "from torch_geometric.datasets import TUDataset, PPI\n",
    "from torch_geometric.nn       import TopKPooling, GCNConv, GINConv, SAGPooling\n",
    "import torch.nn.functional        as F\n",
    "import torch_geometric.transforms as T\n",
    "import torch\n",
    "from torch_geometric.nn      import global_max_pool\n",
    "from torch_scatter           import scatter_mean\n",
    "from torch.nn import Sequential as Seq, Linear as Lin, ReLU"
   ]
  },
  {
   "cell_type": "code",
   "execution_count": 25,
   "metadata": {},
   "outputs": [
    {
     "name": "stdout",
     "output_type": "stream",
     "text": [
      "Populating the interactive namespace from numpy and matplotlib\n"
     ]
    }
   ],
   "source": [
    "%pylab inline\n",
    "from sklearn.manifold import TSNE\n",
    "import operator\n",
    "from functools import reduce"
   ]
  },
  {
   "cell_type": "code",
   "execution_count": 26,
   "metadata": {},
   "outputs": [],
   "source": [
    "class HandleNodeAttention(object):\n",
    "    def __call__(self, data):\n",
    "        data.attn = torch.softmax(data.x, dim=0)\n",
    "        data.x = None\n",
    "        return data\n",
    "\n",
    "transform = T.Compose([HandleNodeAttention(), T.OneHotDegree(max_degree=14)])\n",
    "path = osp.join(osp.abspath(''), '..', 'data', 'TRIANGLES')\n",
    "dataset = TUDataset(path, name='FIRSTMM_DB', use_node_attr=True, transform=transform)\n",
    "\n",
    "train_loader = DataLoader(dataset[:30000], batch_size=5, shuffle=True)\n",
    "\n",
    "# path = osp.join(osp.abspath(''), '..', 'data', 'PPI')\n",
    "# train_dataset = PPI(path, split='train')\n",
    "# val_dataset   = PPI(path, split='val')\n",
    "# test_dataset  = PPI(path, split='test')\n",
    "# train_loader  = DataLoader(train_dataset, batch_size=1, shuffle=True)\n",
    "# val_loader    = DataLoader(val_dataset, batch_size=2, shuffle=False)\n",
    "# test_loader   = DataLoader(test_dataset, batch_size=2, shuffle=False)"
   ]
  },
  {
   "cell_type": "code",
   "execution_count": 51,
   "metadata": {},
   "outputs": [],
   "source": [
    "# class Net(torch.nn.Module):\n",
    "#     def __init__(self):\n",
    "#         super(Net, self).__init__()\n",
    "#         self.conv1 = GCNConv(test_dataset.num_features, 64)\n",
    "#         self.topk_pool = TopKPooling(in_channels=64)\n",
    "#     def forward(self, data):\n",
    "#         x, edge_index, batch = data.x, data.edge_index, data.batch\n",
    "        \n",
    "#         x = F.relu(self.conv1(x, edge_index))\n",
    "#         x, edge_index, _, batch, perm, score = self.topk_pool(x, edge_index, None, batch)\n",
    "        \n",
    "#         return x, edge_index\n",
    "import networkx          as nx\n",
    "import matplotlib.pyplot as plt\n",
    "options = {\n",
    "    'node_color': 'black',\n",
    "    'node_size': 100,\n",
    "    'width': 3,\n",
    "}\n",
    "class Net(torch.nn.Module):\n",
    "    def __init__(self, in_channels):\n",
    "        super(Net, self).__init__()\n",
    "\n",
    "        self.conv1 = GINConv(Seq(Lin(in_channels, 64), ReLU(), Lin(64, 64)))\n",
    "#         self.pool1s = SAGPooling(64, min_score=0.001, GNN=GCNConv)\n",
    "#         self.pool1t = TopKPooling(64,min_score=0.001)\n",
    "        self.pool1s = SAGPooling(64, ratio=0.5, GNN=GCNConv)\n",
    "        self.pool1t = TopKPooling(64,ratio=0.5)\n",
    "        self.conv2 = GINConv(Seq(Lin(64, 64), ReLU(), Lin(64, 64)))\n",
    "        self.pool2s = SAGPooling(64, ratio=0.5, GNN=GCNConv)\n",
    "        self.pool2t = TopKPooling(64, ratio=0.5)\n",
    "        self.conv3 = GINConv(Seq(Lin(64, 64), ReLU(), Lin(64, 64)))\n",
    "\n",
    "        self.lin = torch.nn.Linear(64, 1)\n",
    "        self.i = 0\n",
    "\n",
    "    def forward(self, data):\n",
    "        self.i += 1\n",
    "        x, edge_index, batch = data.x, data.edge_index, data.batch\n",
    "        if self.i == 200 :\n",
    "            origin_graph = nx.Graph()\n",
    "    #         print(edge_index.cpu().numpy().tolist())\n",
    "            edges = edge_index.cpu().numpy().tolist()\n",
    "            origin_graph.add_edges_from(zip(edges[0],edges[1]))\n",
    "    #         nx.draw_spectral(origin_graph, **options)\n",
    "    #         plt.savefig(\"./origin_graphr\"+str(self.i)+\".png\")\n",
    "            nx.readwrite.graphml.write_graphml(origin_graph, \"./origin_graphr\"+str(self.i)+\".graphml\")\n",
    "\n",
    "    #         x_tsne = TSNE(learning_rate=100).fit_transform(x.cpu().numpy())\n",
    "            x_tsne = TSNE(n_components=2, perplexity=5, verbose=2).fit_transform(x.cpu().numpy())\n",
    "            figure(figsize=(10, 5))\n",
    "#             scatter(x_tsne[:, 0], x_tsne[:, 1], c=batch.cpu().numpy())\n",
    "#             print(data.y.cpu().numpy())\n",
    "#             print(batch.cpu().numpy())\n",
    "            label = [ data.y.cpu().numpy()[i] for i in batch.cpu().numpy()]\n",
    "#             print(label)\n",
    "            scatter(x_tsne[:, 0], x_tsne[:, 1], c=label)#, cmap=plt.get_cmap(\"gist_rainbow\"), colorbar=True)\n",
    "#             scatter(x_tsne[:, 0], x_tsne[:, 1], c=reduce(operator.add, data.y.cpu().numpy()))\n",
    "            plt.savefig(\"./origin_graph_tsne\"+str(self.i)+\".png\")\n",
    "        \n",
    "        x = F.relu(self.conv1(x, edge_index))\n",
    "        x_t, edge_index_t, _, batch_t, perm_t, score_t = self.pool1t(x, edge_index, None, batch)\n",
    "        x, edge_index, _, batch, perm, score = self.pool1s(x, edge_index, None, batch)\n",
    "        if self.i == 200 :\n",
    "            topk1_graph = nx.Graph()\n",
    "            sag1__graph = nx.Graph()\n",
    "\n",
    "            edges = edge_index_t.cpu().numpy().tolist()\n",
    "            topk1_graph.add_edges_from(zip(edges[0],edges[1]))\n",
    "    #         nx.draw_spectral(topk1_graph, **options)\n",
    "    #         plt.savefig(\"./topk1_graph\"+str(self.i)+\".png\")\n",
    "    #         nx.readwrite.graphml.write_graphml(topk1_graph, \"./topk1_graph\"+str(self.i)+\".graphml\")\n",
    "    #         x_tsne = TSNE(learning_rate=100).fit_transform(x_t.cpu().detach().numpy())\n",
    "            x_tsne = TSNE(n_components=2, perplexity=5, verbose=2).fit_transform(x_t.cpu().detach().numpy())\n",
    "            figure(figsize=(10, 5))\n",
    "            label = [ data.y.cpu().numpy()[i] for i in batch_t.cpu().numpy()]\n",
    "            scatter(x_tsne[:, 0], x_tsne[:, 1], c=label)\n",
    "            plt.savefig(\"./topk1_graph_tsne\"+str(self.i)+\".png\")\n",
    "\n",
    "            edges = edge_index.cpu().numpy().tolist()\n",
    "            sag1__graph.add_edges_from(zip(edges[0],edges[1]))\n",
    "    #         nx.draw_spectral(sag1__graph, **options)\n",
    "    #         plt.savefig(\"./sag1__graph\"+str(self.i)+\".png\")\n",
    "    #         nx.readwrite.graphml.write_graphml(sag1__graph, \"./sag1__graph\"+str(self.i)+\".graphml\")\n",
    "    #         x_tsne = TSNE(learning_rate=100).fit_transform(x.cpu().detach().numpy())\n",
    "            x_tsne = TSNE(n_components=2, perplexity=5, verbose=2).fit_transform(x.cpu().detach().numpy())\n",
    "            figure(figsize=(10, 5))\n",
    "            label = [ data.y.cpu().numpy()[i] for i in batch.cpu().numpy()]\n",
    "            scatter(x_tsne[:, 0], x_tsne[:, 1], c=label)\n",
    "            plt.savefig(\"./sag1_graph_tsne\"+str(self.i)+\".png\")\n",
    "        \n",
    "        x = F.relu(self.conv2(x, edge_index))\n",
    "        \n",
    "        x_t, edge_index_t, _, batch_t, perm_t, score_t = self.pool2t(x, edge_index, None, batch)\n",
    "        x,   edge_index,   _, batch,   perm,   score   = self.pool2s(x, edge_index, None, batch)\n",
    "        if self.i == 200 :\n",
    "            topk2_graph = nx.Graph()\n",
    "            sag2__graph = nx.Graph()\n",
    "            edges = edge_index_t.cpu().numpy().tolist()\n",
    "            topk2_graph.add_edges_from(zip(edges[0],edges[1]))\n",
    "    #         nx.draw_spectral(topk2_graph, **options)\n",
    "    #         plt.savefig(\"./topk2_graph\"+str(self.i)+\".png\")\n",
    "    #         nx.readwrite.graphml.write_graphml(topk2_graph, \"./topk2_graph\"+str(self.i)+\".graphml\")\n",
    "    #         x_tsne = TSNE(learning_rate=100).fit_transform(x_t.cpu().detach().numpy())\n",
    "            x_tsne = TSNE(n_components=2, perplexity=5, verbose=2).fit_transform(x_t.cpu().detach().numpy())\n",
    "            figure(figsize=(10, 5))\n",
    "            label = [ data.y.cpu().numpy()[i] for i in batch_t.cpu().numpy()]\n",
    "            scatter(x_tsne[:, 0], x_tsne[:, 1], c=label)\n",
    "            plt.savefig(\"./topk2_graph_tsne\"+str(self.i)+\".png\")\n",
    "\n",
    "            edges = edge_index.cpu().numpy().tolist()\n",
    "            sag2__graph.add_edges_from(zip(edges[0],edges[1]))\n",
    "    #         nx.draw_spectral(sag2__graph, **options)\n",
    "    #         plt.savefig(\"./sag2__graph\"+str(self.i)+\".png\")\n",
    "    #         nx.readwrite.graphml.write_graphml(sag2__graph, \"./sag2__graph\"+str(self.i)+\".graphml\")\n",
    "    #         x_tsne = TSNE(learning_rate=100).fit_transform(x.cpu().detach().numpy())\n",
    "            x_tsne = TSNE(n_components=2, perplexity=5, verbose=2).fit_transform(x.cpu().detach().numpy())\n",
    "            figure(figsize=(10, 5))\n",
    "            label = [ data.y.cpu().numpy()[i] for i in batch.cpu().numpy()]\n",
    "            scatter(x_tsne[:, 0], x_tsne[:, 1], c=label)\n",
    "            plt.savefig(\"./sag2_graph_tsne\"+str(self.i)+\".png\")\n",
    "        \n",
    "        ratio = x.size(0) / data.x.size(0)\n",
    "\n",
    "        x = F.relu(self.conv3(x, edge_index))\n",
    "        x = global_max_pool(x, batch)\n",
    "        x = self.lin(x).view(-1)\n",
    "\n",
    "        attn_loss = F.kl_div(torch.log(score + 1e-14), data.attn[perm], reduction='none')\n",
    "        attn_loss = scatter_mean(attn_loss, batch)\n",
    "\n",
    "        return x, attn_loss, ratio"
   ]
  },
  {
   "cell_type": "code",
   "execution_count": 52,
   "metadata": {},
   "outputs": [],
   "source": [
    "device = torch.device('cuda' if torch.cuda.is_available() else 'cpu')\n",
    "model = Net(dataset.num_features).to(device)\n",
    "optimizer = torch.optim.Adam(model.parameters(), lr=0.001)"
   ]
  },
  {
   "cell_type": "code",
   "execution_count": 53,
   "metadata": {},
   "outputs": [
    {
     "name": "stdout",
     "output_type": "stream",
     "text": [
      "[t-SNE] Computing 16 nearest neighbors...\n",
      "[t-SNE] Indexed 93 samples in 0.009s...\n",
      "[t-SNE] Computed neighbors for 93 samples in 0.001s...\n",
      "[t-SNE] Computed conditional probabilities for sample 93 / 93\n",
      "[t-SNE] Mean sigma: 0.000000\n",
      "[t-SNE] Computed conditional probabilities in 0.004s\n",
      "[t-SNE] Iteration 50: error = 53.2924995, gradient norm = 0.4825704 (50 iterations in 0.027s)\n",
      "[t-SNE] Iteration 100: error = 49.0542030, gradient norm = 0.5562780 (50 iterations in 0.025s)\n",
      "[t-SNE] Iteration 150: error = 50.2392502, gradient norm = 0.4862048 (50 iterations in 0.026s)\n",
      "[t-SNE] Iteration 200: error = 48.1945343, gradient norm = 0.4931083 (50 iterations in 0.026s)\n",
      "[t-SNE] Iteration 250: error = 48.5487595, gradient norm = 0.4682145 (50 iterations in 0.024s)\n",
      "[t-SNE] KL divergence after 250 iterations with early exaggeration: 48.548759\n",
      "[t-SNE] Iteration 300: error = 1.0144968, gradient norm = 0.0190361 (50 iterations in 0.025s)\n",
      "[t-SNE] Iteration 350: error = 0.8198894, gradient norm = 0.0185811 (50 iterations in 0.027s)\n",
      "[t-SNE] Iteration 400: error = 0.9255680, gradient norm = 0.0358788 (50 iterations in 0.029s)\n",
      "[t-SNE] Iteration 450: error = 1.1279054, gradient norm = 0.0025811 (50 iterations in 0.034s)\n",
      "[t-SNE] Iteration 500: error = 0.8595105, gradient norm = 0.0027525 (50 iterations in 0.030s)\n",
      "[t-SNE] Iteration 550: error = 0.8518510, gradient norm = 0.0010361 (50 iterations in 0.028s)\n",
      "[t-SNE] Iteration 600: error = 0.7622655, gradient norm = 0.0005922 (50 iterations in 0.025s)\n",
      "[t-SNE] Iteration 650: error = 0.8647539, gradient norm = 0.0014261 (50 iterations in 0.025s)\n",
      "[t-SNE] Iteration 700: error = 0.7819951, gradient norm = 0.0005148 (50 iterations in 0.023s)\n",
      "[t-SNE] Iteration 750: error = 0.5490465, gradient norm = 0.0161653 (50 iterations in 0.023s)\n",
      "[t-SNE] Iteration 800: error = 0.9126623, gradient norm = 0.0017058 (50 iterations in 0.027s)\n",
      "[t-SNE] Iteration 850: error = 0.9330021, gradient norm = 0.0010510 (50 iterations in 0.033s)\n",
      "[t-SNE] Iteration 900: error = 0.9021969, gradient norm = 0.0002414 (50 iterations in 0.030s)\n",
      "[t-SNE] Iteration 950: error = 0.9075356, gradient norm = 0.0010233 (50 iterations in 0.027s)\n",
      "[t-SNE] Iteration 1000: error = 0.8480206, gradient norm = 0.0005895 (50 iterations in 0.028s)\n",
      "[t-SNE] KL divergence after 1000 iterations: 0.848021\n",
      "[t-SNE] Computing 16 nearest neighbors...\n",
      "[t-SNE] Indexed 47 samples in 0.001s...\n",
      "[t-SNE] Computed neighbors for 47 samples in 0.001s...\n",
      "[t-SNE] Computed conditional probabilities for sample 47 / 47\n",
      "[t-SNE] Mean sigma: 0.006006\n",
      "[t-SNE] Computed conditional probabilities in 0.003s\n",
      "[t-SNE] Iteration 50: error = 66.0397644, gradient norm = 0.3432977 (50 iterations in 0.031s)\n",
      "[t-SNE] Iteration 100: error = 62.8274040, gradient norm = 0.3701750 (50 iterations in 0.027s)\n",
      "[t-SNE] Iteration 150: error = 55.9626236, gradient norm = 0.3381553 (50 iterations in 0.021s)\n",
      "[t-SNE] Iteration 200: error = 71.3674850, gradient norm = 0.4088119 (50 iterations in 0.021s)\n",
      "[t-SNE] Iteration 250: error = 61.5796814, gradient norm = 0.4391422 (50 iterations in 0.022s)\n",
      "[t-SNE] KL divergence after 250 iterations with early exaggeration: 61.579681\n",
      "[t-SNE] Iteration 300: error = 1.8453382, gradient norm = 0.0322502 (50 iterations in 0.022s)\n",
      "[t-SNE] Iteration 350: error = 1.1589789, gradient norm = 0.0028026 (50 iterations in 0.021s)\n",
      "[t-SNE] Iteration 400: error = 0.8422660, gradient norm = 0.0019660 (50 iterations in 0.021s)\n",
      "[t-SNE] Iteration 450: error = 0.9969721, gradient norm = 0.0012136 (50 iterations in 0.023s)\n",
      "[t-SNE] Iteration 500: error = 0.8095980, gradient norm = 0.0012879 (50 iterations in 0.022s)\n",
      "[t-SNE] Iteration 550: error = 0.7269306, gradient norm = 0.0001955 (50 iterations in 0.027s)\n",
      "[t-SNE] Iteration 600: error = 0.6843384, gradient norm = 0.0006688 (50 iterations in 0.021s)\n",
      "[t-SNE] Iteration 650: error = 0.5535061, gradient norm = 0.0003491 (50 iterations in 0.021s)\n",
      "[t-SNE] Iteration 700: error = 0.5225168, gradient norm = 0.0001465 (50 iterations in 0.022s)\n",
      "[t-SNE] Iteration 750: error = 0.5031154, gradient norm = 0.0001483 (50 iterations in 0.021s)\n",
      "[t-SNE] Iteration 800: error = 0.4579572, gradient norm = 0.0001666 (50 iterations in 0.020s)\n",
      "[t-SNE] Iteration 850: error = 0.4302384, gradient norm = 0.0001106 (50 iterations in 0.020s)\n",
      "[t-SNE] Iteration 900: error = 0.4114816, gradient norm = 0.0000964 (50 iterations in 0.020s)\n",
      "[t-SNE] Iteration 950: error = 0.3878892, gradient norm = 0.0001012 (50 iterations in 0.022s)\n",
      "[t-SNE] Iteration 1000: error = 0.3535279, gradient norm = 0.0001152 (50 iterations in 0.020s)\n",
      "[t-SNE] KL divergence after 1000 iterations: 0.353528\n",
      "[t-SNE] Computing 16 nearest neighbors...\n",
      "[t-SNE] Indexed 47 samples in 0.000s...\n",
      "[t-SNE] Computed neighbors for 47 samples in 0.001s...\n",
      "[t-SNE] Computed conditional probabilities for sample 47 / 47\n",
      "[t-SNE] Mean sigma: 0.245172\n",
      "[t-SNE] Computed conditional probabilities in 0.002s\n",
      "[t-SNE] Iteration 50: error = 62.4896736, gradient norm = 0.4405489 (50 iterations in 0.018s)\n",
      "[t-SNE] Iteration 100: error = 69.4179535, gradient norm = 0.3156754 (50 iterations in 0.023s)\n",
      "[t-SNE] Iteration 150: error = 62.9710617, gradient norm = 0.4575114 (50 iterations in 0.019s)\n",
      "[t-SNE] Iteration 200: error = 66.2065430, gradient norm = 0.3367899 (50 iterations in 0.018s)\n",
      "[t-SNE] Iteration 250: error = 65.7798767, gradient norm = 0.4618217 (50 iterations in 0.016s)\n",
      "[t-SNE] KL divergence after 250 iterations with early exaggeration: 65.779877\n",
      "[t-SNE] Iteration 300: error = 2.1484373, gradient norm = 0.0026856 (50 iterations in 0.016s)\n",
      "[t-SNE] Iteration 350: error = 1.6884196, gradient norm = 0.0017368 (50 iterations in 0.015s)\n",
      "[t-SNE] Iteration 400: error = 1.4073849, gradient norm = 0.0013289 (50 iterations in 0.016s)\n",
      "[t-SNE] Iteration 450: error = 1.1690948, gradient norm = 0.0007740 (50 iterations in 0.017s)\n",
      "[t-SNE] Iteration 500: error = 1.1186709, gradient norm = 0.0007288 (50 iterations in 0.016s)\n",
      "[t-SNE] Iteration 550: error = 0.9893693, gradient norm = 0.0004879 (50 iterations in 0.016s)\n",
      "[t-SNE] Iteration 600: error = 0.9293264, gradient norm = 0.0002748 (50 iterations in 0.018s)\n",
      "[t-SNE] Iteration 650: error = 0.8547826, gradient norm = 0.0002820 (50 iterations in 0.016s)\n",
      "[t-SNE] Iteration 700: error = 0.7662393, gradient norm = 0.0004481 (50 iterations in 0.016s)\n",
      "[t-SNE] Iteration 750: error = 0.5608467, gradient norm = 0.0004847 (50 iterations in 0.017s)\n",
      "[t-SNE] Iteration 800: error = 0.5407297, gradient norm = 0.0002629 (50 iterations in 0.016s)\n",
      "[t-SNE] Iteration 850: error = 0.5160241, gradient norm = 0.0001301 (50 iterations in 0.016s)\n",
      "[t-SNE] Iteration 900: error = 0.5055874, gradient norm = 0.0001138 (50 iterations in 0.016s)\n",
      "[t-SNE] Iteration 950: error = 0.4980775, gradient norm = 0.0000745 (50 iterations in 0.018s)\n",
      "[t-SNE] Iteration 1000: error = 0.4915578, gradient norm = 0.0000692 (50 iterations in 0.018s)\n",
      "[t-SNE] KL divergence after 1000 iterations: 0.491558\n",
      "[t-SNE] Computing 16 nearest neighbors...\n",
      "[t-SNE] Indexed 26 samples in 0.000s...\n",
      "[t-SNE] Computed neighbors for 26 samples in 0.002s...\n",
      "[t-SNE] Computed conditional probabilities for sample 26 / 26\n",
      "[t-SNE] Mean sigma: 0.033304\n",
      "[t-SNE] Computed conditional probabilities in 0.002s\n",
      "[t-SNE] Iteration 50: error = 65.6712341, gradient norm = 0.3252006 (50 iterations in 0.024s)\n",
      "[t-SNE] Iteration 100: error = 70.0165787, gradient norm = 0.1602187 (50 iterations in 0.014s)\n",
      "[t-SNE] Iteration 150: error = 76.5367050, gradient norm = 0.3350977 (50 iterations in 0.022s)\n",
      "[t-SNE] Iteration 200: error = 76.7602768, gradient norm = 0.4529991 (50 iterations in 0.015s)\n",
      "[t-SNE] Iteration 250: error = 58.4860268, gradient norm = 0.1234507 (50 iterations in 0.016s)\n",
      "[t-SNE] KL divergence after 250 iterations with early exaggeration: 58.486027\n",
      "[t-SNE] Iteration 300: error = 1.6887153, gradient norm = 0.0011270 (50 iterations in 0.016s)\n",
      "[t-SNE] Iteration 350: error = 1.3001781, gradient norm = 0.0010543 (50 iterations in 0.016s)\n",
      "[t-SNE] Iteration 400: error = 1.0530496, gradient norm = 0.0004534 (50 iterations in 0.014s)\n",
      "[t-SNE] Iteration 450: error = 0.8975010, gradient norm = 0.0003859 (50 iterations in 0.013s)\n",
      "[t-SNE] Iteration 500: error = 0.6149161, gradient norm = 0.0005935 (50 iterations in 0.019s)\n",
      "[t-SNE] Iteration 550: error = 0.5381766, gradient norm = 0.0001905 (50 iterations in 0.013s)\n",
      "[t-SNE] Iteration 600: error = 0.5220965, gradient norm = 0.0001247 (50 iterations in 0.012s)\n"
     ]
    },
    {
     "name": "stdout",
     "output_type": "stream",
     "text": [
      "[t-SNE] Iteration 650: error = 0.5080002, gradient norm = 0.0000873 (50 iterations in 0.018s)\n",
      "[t-SNE] Iteration 700: error = 0.4408093, gradient norm = 0.0004000 (50 iterations in 0.015s)\n",
      "[t-SNE] Iteration 750: error = 0.3271332, gradient norm = 0.0003996 (50 iterations in 0.014s)\n",
      "[t-SNE] Iteration 800: error = 0.2705354, gradient norm = 0.0002818 (50 iterations in 0.015s)\n",
      "[t-SNE] Iteration 850: error = 0.2200160, gradient norm = 0.0001637 (50 iterations in 0.015s)\n",
      "[t-SNE] Iteration 900: error = 0.1808233, gradient norm = 0.0001755 (50 iterations in 0.013s)\n",
      "[t-SNE] Iteration 950: error = 0.1245456, gradient norm = 0.0001613 (50 iterations in 0.013s)\n",
      "[t-SNE] Iteration 1000: error = 0.1048267, gradient norm = 0.0001148 (50 iterations in 0.013s)\n",
      "[t-SNE] KL divergence after 1000 iterations: 0.104827\n",
      "[t-SNE] Computing 16 nearest neighbors...\n",
      "[t-SNE] Indexed 26 samples in 0.017s...\n",
      "[t-SNE] Computed neighbors for 26 samples in 0.001s...\n",
      "[t-SNE] Computed conditional probabilities for sample 26 / 26\n",
      "[t-SNE] Mean sigma: 0.331834\n",
      "[t-SNE] Computed conditional probabilities in 0.004s\n",
      "[t-SNE] Iteration 50: error = 62.4984436, gradient norm = 0.1675712 (50 iterations in 0.035s)\n",
      "[t-SNE] Iteration 100: error = 68.3866119, gradient norm = 0.2372188 (50 iterations in 0.018s)\n",
      "[t-SNE] Iteration 150: error = 63.5391006, gradient norm = 0.1114681 (50 iterations in 0.014s)\n",
      "[t-SNE] Iteration 200: error = 68.1762390, gradient norm = 0.1666249 (50 iterations in 0.014s)\n",
      "[t-SNE] Iteration 250: error = 72.8857269, gradient norm = 0.1181589 (50 iterations in 0.014s)\n",
      "[t-SNE] KL divergence after 250 iterations with early exaggeration: 72.885727\n",
      "[t-SNE] Iteration 300: error = 1.6105915, gradient norm = 0.0013156 (50 iterations in 0.013s)\n",
      "[t-SNE] Iteration 350: error = 1.2567397, gradient norm = 0.0014995 (50 iterations in 0.013s)\n",
      "[t-SNE] Iteration 400: error = 0.7166685, gradient norm = 0.0009294 (50 iterations in 0.016s)\n",
      "[t-SNE] Iteration 450: error = 0.4355806, gradient norm = 0.0011005 (50 iterations in 0.013s)\n",
      "[t-SNE] Iteration 500: error = 0.4268737, gradient norm = 0.0004235 (50 iterations in 0.013s)\n",
      "[t-SNE] Iteration 550: error = 0.3819402, gradient norm = 0.0004036 (50 iterations in 0.013s)\n",
      "[t-SNE] Iteration 600: error = 0.2064564, gradient norm = 0.0008921 (50 iterations in 0.013s)\n",
      "[t-SNE] Iteration 650: error = 0.1694144, gradient norm = 0.0002379 (50 iterations in 0.029s)\n",
      "[t-SNE] Iteration 700: error = 0.1383398, gradient norm = 0.0002021 (50 iterations in 0.014s)\n",
      "[t-SNE] Iteration 750: error = 0.1089116, gradient norm = 0.0001114 (50 iterations in 0.015s)\n",
      "[t-SNE] Iteration 800: error = 0.1020841, gradient norm = 0.0000719 (50 iterations in 0.014s)\n",
      "[t-SNE] Iteration 850: error = 0.0968057, gradient norm = 0.0000510 (50 iterations in 0.014s)\n",
      "[t-SNE] Iteration 900: error = 0.0943206, gradient norm = 0.0000429 (50 iterations in 0.013s)\n",
      "[t-SNE] Iteration 950: error = 0.0908523, gradient norm = 0.0000428 (50 iterations in 0.014s)\n",
      "[t-SNE] Iteration 1000: error = 0.0904685, gradient norm = 0.0000366 (50 iterations in 0.012s)\n",
      "[t-SNE] KL divergence after 1000 iterations: 0.090469\n"
     ]
    },
    {
     "data": {
      "image/png": "[encoded data removed]",
      "text/plain": [
       "<Figure size 720x360 with 1 Axes>"
      ]
     },
     "metadata": {
      "needs_background": "light"
     },
     "output_type": "display_data"
    },
    {
     "data": {
      "image/png": "[encoded data removed]",
      "text/plain": [
       "<Figure size 720x360 with 1 Axes>"
      ]
     },
     "metadata": {
      "needs_background": "light"
     },
     "output_type": "display_data"
    },
    {
     "data": {
      "image/png": "[encoded data removed]",
      "text/plain": [
       "<Figure size 720x360 with 1 Axes>"
      ]
     },
     "metadata": {
      "needs_background": "light"
     },
     "output_type": "display_data"
    },
    {
     "data": {
      "image/png": "[encoded data removed]",
      "text/plain": [
       "<Figure size 720x360 with 1 Axes>"
      ]
     },
     "metadata": {
      "needs_background": "light"
     },
     "output_type": "display_data"
    },
    {
     "data": {
      "image/png": "[encoded data removed]",
      "text/plain": [
       "<Figure size 720x360 with 1 Axes>"
      ]
     },
     "metadata": {
      "needs_background": "light"
     },
     "output_type": "display_data"
    }
   ],
   "source": [
    "# import networkx as nx\n",
    "# model.train()\n",
    "# total_loss = 0\n",
    "# for data in train_loader:\n",
    "#     edge_index = data.edge_index\n",
    "    \n",
    "#     data = data.to(device)\n",
    "#     optimizer.zero_grad()\n",
    "#     out, attn_loss, _ = model(data)\n",
    "#     loss = ((out - data.y).pow(2) + 100 * attn_loss).mean()\n",
    "#     loss.backward()\n",
    "#     total_loss += loss.item() * data.num_graphs\n",
    "#     optimizer.step()\n",
    "#     print(total_loss / len(train_loader.dataset))\n",
    "def train(epoch):\n",
    "    model.train()\n",
    "\n",
    "    total_loss = 0\n",
    "    for data in train_loader:\n",
    "        data = data.to(device)\n",
    "        optimizer.zero_grad()\n",
    "        out, attn_loss, _ = model(data)\n",
    "        loss = ((out - data.y).pow(2) + 100 * attn_loss).mean()\n",
    "        loss.backward()\n",
    "        total_loss += loss.item() * data.num_graphs\n",
    "        optimizer.step()\n",
    "        return\n",
    "\n",
    "    return total_loss / len(train_loader.dataset)\n",
    "for epoch in range(1, 201):\n",
    "    loss = train(epoch)\n",
    "#     train_correct, train_ratio = test(train_loader)\n",
    "#     val_correct, val_ratio = test(val_loader)\n",
    "#     test_correct, test_ratio = test(test_loader)\n",
    "\n",
    "#     train_acc = train_correct.sum().item() / train_correct.size(0)\n",
    "#     val_acc = val_correct.sum().item() / val_correct.size(0)\n",
    "\n",
    "#     test_acc1 = test_correct[:5000].sum().item() / 5000\n",
    "#     t.cpu().numpy()est_acc2 = test_correct[5000:].sum().item() / 5000\n",
    "\n",
    "#     print(('Epoch: {:03d}, Los.cpu().numpy()s: {:.4f}, Train: {:.3f}, Val: {:.3f}, '\n",
    "#            'Test Orig:.cpu().numpy() {:.3f}, Test Large: {:.3f}, '\n",
    "#            'Train/Val/Test Ratio={:.3f}/{:.3f}/{:.3f}').format(\n",
    "#                epoch, loss, train_acc, val_acc, test_acc1, test_acc2,\n",
    "#                train_ratio, val_ratio, test_ratio))"
   ]
  },
  {
   "cell_type": "code",
   "execution_count": null,
   "metadata": {},
   "outputs": [],
   "source": [
    "\n",
    "G = nx.Graph()\n",
    "G.add_edges_from([(1,2),(3,4)])"
   ]
  },
  {
   "cell_type": "code",
   "execution_count": null,
   "metadata": {},
   "outputs": [],
   "source": [
    "nx.draw(G, with_labels=True)"
   ]
  },
  {
   "cell_type": "code",
   "execution_count": null,
   "metadata": {},
   "outputs": [],
   "source": [
    "\n",
    "# a = torch.tensor([[7,8],[8,9]])\n",
    "# a = a.to(torch.device('cuda'))\n",
    "a = [[7,8],[8,9]]\n",
    "G = nx.Graph()\n",
    "# G.add_edges_from(a.numpy())\n",
    "G.add_edges_from(zip(a[0],a[1]))"
   ]
  },
  {
   "cell_type": "code",
   "execution_count": null,
   "metadata": {},
   "outputs": [],
   "source": [
    "nx.draw(G, with_labels=True)"
   ]
  },
  {
   "cell_type": "code",
   "execution_count": null,
   "metadata": {},
   "outputs": [],
   "source": [
    "torch.cuda.is_available()"
   ]
  },
  {
   "cell_type": "code",
   "execution_count": null,
   "metadata": {},
   "outputs": [],
   "source": [
    "a.numpy()"
   ]
  },
  {
   "cell_type": "code",
   "execution_count": null,
   "metadata": {},
   "outputs": [],
   "source": []
  },
  {
   "cell_type": "code",
   "execution_count": null,
   "metadata": {},
   "outputs": [],
   "source": [
    "b = zip(a[0],a[1])"
   ]
  },
  {
   "cell_type": "code",
   "execution_count": null,
   "metadata": {},
   "outputs": [],
   "source": [
    "print(list(b))"
   ]
  },
  {
   "cell_type": "code",
   "execution_count": null,
   "metadata": {},
   "outputs": [],
   "source": []
  }
 ],
 "metadata": {
  "kernelspec": {
   "display_name": "gnn-venv",
   "language": "python",
   "name": "gnn-venv"
  },
  "language_info": {
   "codemirror_mode": {
    "name": "ipython",
    "version": 3
   },
   "file_extension": ".py",
   "mimetype": "text/x-python",
   "name": "python",
   "nbconvert_exporter": "python",
   "pygments_lexer": "ipython3",
   "version": "3.7.3"
  }
 },
 "nbformat": 4,
 "nbformat_minor": 2
}
