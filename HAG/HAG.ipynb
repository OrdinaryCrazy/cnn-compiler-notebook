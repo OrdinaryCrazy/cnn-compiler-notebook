{
 "cells": [
  {
   "cell_type": "code",
   "execution_count": 2,
   "metadata": {},
   "outputs": [],
   "source": [
    "import torch_geometric as pyg\n",
    "import torch\n",
    "import heapq"
   ]
  },
  {
   "cell_type": "code",
   "execution_count": null,
   "metadata": {},
   "outputs": [],
   "source": [
    "class HAG(object):\n",
    "    '''\n",
    "        Hierarchically Aggregated Computation Graphs\n",
    "    '''\n",
    "    def __init__(self, x, edge_index, ha_proportion=0.25, redundancy_threshold=1):\n",
    "        '''\n",
    "            input:\n",
    "                x: origin nodes [tensor shape (N, d)]\n",
    "                edge_index: origin edges [tensor COO format shape ( 2 * E, 2)]\n",
    "        '''\n",
    "        self.h = x\n",
    "        self.edge_index = edge_index\n",
    "        self.ha = None\n",
    "        self.capacity = x.shape[0] / ha_proportion\n",
    "        self.redundancy_threshold = redundancy_threshold\n",
    "#   def build(self):\n",
    "    def graph_to_hag(self):\n",
    "        '''\n",
    "            build HAG at preprocessing stage\n",
    "        '''\n",
    "        while self.ha.shape[0] < self.capacity :\n",
    "            v_i, v_j, max_r = self.max_redundancy()\n",
    "            if max_r > redundancy_threshold :\n",
    "                newPoint = x[i] + x[j]\n",
    "                \n",
    "    def hag_aggregate(self):\n",
    "        '''\n",
    "            compute embedding of aggregate node every iteration \n",
    "        '''\n",
    "        \n",
    "#     def hag_aggregate_grad(self):\n",
    "#         '''\n",
    "#         '''\n",
    "    def max_redundancy(self):\n",
    "        '''\n",
    "            find max redundancy node pair and return it\n",
    "            output: v_i, v_j, max_r\n",
    "        '''\n",
    "        "
   ]
  }
 ],
 "metadata": {
  "kernelspec": {
   "display_name": "gnn-env",
   "language": "python",
   "name": "gnn-env"
  },
  "language_info": {
   "codemirror_mode": {
    "name": "ipython",
    "version": 3
   },
   "file_extension": ".py",
   "mimetype": "text/x-python",
   "name": "python",
   "nbconvert_exporter": "python",
   "pygments_lexer": "ipython3",
   "version": "3.7.3"
  }
 },
 "nbformat": 4,
 "nbformat_minor": 2
}
