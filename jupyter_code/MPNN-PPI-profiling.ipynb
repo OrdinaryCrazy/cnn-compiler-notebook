{
 "cells": [
  {
   "cell_type": "code",
   "execution_count": 19,
   "metadata": {},
   "outputs": [],
   "source": [
    "import torch_geometric as pyg\n",
    "import os.path as osp\n",
    "import torch\n",
    "import torch.nn.functional as F\n",
    "import matplotlib\n",
    "import matplotlib.pyplot as plt\n",
    "import pandas as pd\n",
    "\n",
    "from pandas import DataFrame\n",
    "from torch_geometric.data import DataLoader\n",
    "from torch_geometric.datasets import PPI\n",
    "from torch_geometric.nn import GCNConv\n"
   ]
  },
  {
   "cell_type": "code",
   "execution_count": 20,
   "metadata": {},
   "outputs": [
    {
     "ename": "SyntaxError",
     "evalue": "invalid syntax (<ipython-input-20-d7dc353808f6>, line 11)",
     "output_type": "error",
     "traceback": [
      "\u001b[0;36m  File \u001b[0;32m\"<ipython-input-20-d7dc353808f6>\"\u001b[0;36m, line \u001b[0;32m11\u001b[0m\n\u001b[0;31m    test_loader       = DataLoader(test_dataset, batch_size=2, shuffle= False)result\u001b[0m\n\u001b[0m                                                                                   ^\u001b[0m\n\u001b[0;31mSyntaxError\u001b[0m\u001b[0;31m:\u001b[0m invalid syntax\n"
     ]
    }
   ],
   "source": [
    "# path = osp.join(osp.dirname(osp.realpath(__file__)), '..', 'data', 'PPI')\n",
    "path = osp.join(osp.abspath(''), '..', 'data', 'PPI')\n",
    "\n",
    "train_dataset      = PPI(path, split='train')\n",
    "validation_dataset = PPI(path, split='val')\n",
    "test_dataset       = PPI(path, split='test')\n",
    "\n",
    "train_loader      = DataLoader(train_dataset, batch_size=1, shuffle=True)\n",
    "# batch_size=1 单位是图\n",
    "validation_loader = DataLoader(validation_dataset, batch_size=2, shuffle=False)\n",
    "test_loader       = DataLoader(test_dataset, batch_size=2, shuffle= False)"
   ]
  },
  {
   "cell_type": "code",
   "execution_count": 21,
   "metadata": {},
   "outputs": [],
   "source": [
    "intrain = True\n",
    "\n",
    "class testNet(torch.nn.Module):\n",
    "    def __init__(self):\n",
    "        super(testNet, self).__init__()\n",
    "        self.conv1 = GCNConv(train_dataset.num_features, 16)\n",
    "        self.conv2 = GCNConv(16, train_dataset.num_classes)\n",
    "    def forward(self, x, edge_index):\n",
    "        x = self.conv1(x, edge_index)\n",
    "        x = F.leaky_relu(x)\n",
    "        x = F.dropout(x, training=intrain)\n",
    "        x = self.conv2(x, edge_index)\n",
    "        x = F.log_softmax(x, dim=1)\n",
    "        return x"
   ]
  },
  {
   "cell_type": "code",
   "execution_count": 22,
   "metadata": {},
   "outputs": [],
   "source": [
    "device = torch.device('cuda' if torch.cuda.is_available() else 'cpu')\n",
    "model = testNet().to(device)\n",
    "loss_op = torch.nn.BCEWithLogitsLoss()\n",
    "optimizer = torch.optim.Adam(model.parameters(), lr=0.005)"
   ]
  },
  {
   "cell_type": "code",
   "execution_count": 77,
   "metadata": {},
   "outputs": [],
   "source": [
    "def train():\n",
    "    model.train()\n",
    "    totalTrainLoss = 0.0\n",
    "    gcn_PPI_profile = DataFrame(columns=['node_num',\n",
    "                                     'edge_num',\n",
    "                                     'in_channels', \n",
    "                                     'out_channels',\n",
    "                                     'agg_time',\n",
    "                                     'map_time'\n",
    "                                    ]\n",
    "                           )\n",
    "    for batch in train_loader:\n",
    "        batch = batch.to(device)\n",
    "        totalAggTime = 0.0\n",
    "        totalMapTime = 0.0\n",
    "        for epoch in range(1, 101):\n",
    "            x, edge_index = batch.x, batch.edge_index\n",
    "            num_graphs = batch.num_graphs\n",
    "            optimizer.zero_grad()\n",
    "            pred = model(x, edge_index)\n",
    "            loss = loss_op(pred, batch.y)\n",
    "            totalTrainLoss += loss.item() * num_graphs\n",
    "            totalAggTime += model.conv1.aggregateTime\n",
    "            totalMapTime += model.conv1.mappingTime\n",
    "            loss.backward()\n",
    "            optimizer.step()\n",
    "#         log = 'batch_node_num:{:d}, batch_edge_num:{:d}, Loss:{:f}, Agg_time:{:f}, Map_time:{:f}'\n",
    "#         print(log.format(\n",
    "#                             batch.x.shape[0], \n",
    "#                             batch.edge_index[0].shape[0], \n",
    "#                             loss.item() * num_graphs, \n",
    "#                             model.conv1.aggregateTime * 1e6, \n",
    "#                             model.conv1.mappingTime * 1e6\n",
    "#                         )\n",
    "#              )\n",
    "        result = DataFrame([[batch.x.shape[0], batch.edge_index[0].shape[0], \n",
    "                             model.conv1.in_channels, model.conv1.out_channels, \n",
    "                             totalAggTime / 100 * 1e6, totalMapTime / 100 * 1e6\n",
    "                            ]],\n",
    "                           columns=['node_num', 'edge_num', 'in_channels', 'out_channels', 'agg_time', 'map_time']\n",
    "                          )\n",
    "        gcn_PPI_profile = gcn_PPI_profile.append(result)\n",
    "    return totalTrainLoss/len(train_loader.dataset), gcn_PPI_profile"
   ]
  },
  {
   "cell_type": "code",
   "execution_count": 78,
   "metadata": {},
   "outputs": [],
   "source": [
    "# gcn_PPI_profile = DataFrame(columns=['node_num',\n",
    "#                                      'edge_num',\n",
    "#                                      'in_channels', \n",
    "#                                      'out_channels',\n",
    "#                                      'agg_time',\n",
    "#                                      'map_time'\n",
    "#                                     ]\n",
    "#                            )\n",
    "# for epoch in range(1, 11):\n",
    "#     _, epoch_gcn_PPI_profile = train()\n",
    "#     gcn_PPI_profile = gcn_PPI_profile.append(epoch_gcn_PPI_profile)\n",
    "_, gcn_PPI_profile = train()\n",
    "gcn_PPI_profile.to_csv(\"./gcn_PPI_profile.csv\")"
   ]
  },
  {
   "cell_type": "code",
   "execution_count": 79,
   "metadata": {},
   "outputs": [],
   "source": [
    "# CoraProfile = pd.read_excel(\"../gcn_Cora_profile.xlsx\")\n",
    "# CiteSeerProfile = pd.read_excel(\"../gcn_CiteSeer_profile.xlsx\")\n",
    "# PubMedProfile = pd.read_excel(\"../gcn_PubMed_profile.xlsx\")\n",
    "PPIProfile = pd.read_csv(\"./gcn_PPI_profile.csv\")\n"
   ]
  },
  {
   "cell_type": "code",
   "execution_count": 80,
   "metadata": {},
   "outputs": [],
   "source": [
    "PPIProfile['mapx'] = PPIProfile['node_num'] * PPIProfile['in_channels'] * PPIProfile['out_channels']\n",
    "PPIProfile['aggx'] = PPIProfile['edge_num'] * PPIProfile['out_channels']"
   ]
  },
  {
   "cell_type": "code",
   "execution_count": 81,
   "metadata": {},
   "outputs": [
    {
     "name": "stderr",
     "output_type": "stream",
     "text": [
      "No handles with labels found to put in legend.\n"
     ]
    },
    {
     "data": {
      "image/png": "[encoded data removed]",
      "text/plain": [
       "<Figure size 1080x720 with 2 Axes>"
      ]
     },
     "metadata": {
      "needs_background": "light"
     },
     "output_type": "display_data"
    }
   ],
   "source": [
    "\n",
    "# plt.plot(CoraProfile.epoch, CoraProfile.agg_time, color = \"red\", linestyle = \"--\", \n",
    "#          label = \"Cora_agg_time n_v_aver = 7.8, d = 1443\")\n",
    "# plt.plot(CoraProfile.epoch, CoraProfile.map_time, color = \"red\", linestyle = \"-\", \n",
    "#          label = \"Cora_map_time n_v_aver = 7.8, d = 1443\")\n",
    "# plt.plot(CiteSeerProfile.epoch, CiteSeerProfile.agg_time, color = \"green\", linestyle = \"--\", \n",
    "#          label = \"CiteSeer_agg_time n_v_aver = 5.5, d = 3703\")\n",
    "# plt.plot(CiteSeerProfile.epoch, CiteSeerProfile.map_time, color = \"green\", linestyle = \"-\", \n",
    "#          label = \"CiteSeer_map_time n_v_aver = 5.5, d = 3703\")\n",
    "# plt.plot(PubMedProfile.epoch, PubMedProfile.agg_time, color = \"blue\", linestyle = \"--\", \n",
    "#          label = \"PubMed_agg_time n_v_aver = 9, d = 500\")\n",
    "# plt.plot(PubMedProfile.epoch, PubMedProfile.map_time, color = \"blue\", linestyle = \"-\", \n",
    "#          label = \"PubMed_map_time n_v_aver = 9, d = 500\")\n",
    "gs = matplotlib.gridspec.GridSpec(1,2) \n",
    "fig = plt.figure(figsize=(15,10))\n",
    "\n",
    "map_plot = fig.add_subplot(gs[0])\n",
    "map_plot.set_title(\"map_time\")\n",
    "map_plot.scatter(PPIProfile['mapx'], PPIProfile['map_time'], color = 'red')\n",
    "map_plot.set_xlabel(\"n * d * d\\'\")\n",
    "map_plot.set_ylabel(\"us\")\n",
    "map_plot.set_ylim(0, 300) \n",
    "\n",
    "agg_plot = fig.add_subplot(gs[1])\n",
    "agg_plot.set_title(\"agg_time\")\n",
    "agg_plot.scatter(PPIProfile['aggx'], PPIProfile['agg_time'], color='blue')\n",
    "agg_plot.set_xlabel(\"E * d\")\n",
    "agg_plot.set_ylabel(\"us\")\n",
    "agg_plot.set_ylim(0, 300) \n",
    "\n",
    "# plt.ylabel(\"us\")\n",
    "plt.legend(loc='upper right')\n",
    "plt.savefig(\"../ppi_plot.png\")"
   ]
  },
  {
   "cell_type": "code",
   "execution_count": null,
   "metadata": {},
   "outputs": [],
   "source": []
  }
 ],
 "metadata": {
  "kernelspec": {
   "display_name": "gnn-venv",
   "language": "python",
   "name": "gnn-venv"
  },
  "language_info": {
   "codemirror_mode": {
    "name": "ipython",
    "version": 3
   },
   "file_extension": ".py",
   "mimetype": "text/x-python",
   "name": "python",
   "nbconvert_exporter": "python",
   "pygments_lexer": "ipython3",
   "version": "3.7.3"
  }
 },
 "nbformat": 4,
 "nbformat_minor": 2
}
